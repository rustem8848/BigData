{
 "cells": [
  {
   "cell_type": "code",
   "execution_count": 1,
   "id": "d44abebf",
   "metadata": {},
   "outputs": [
    {
     "name": "stdout",
     "output_type": "stream",
     "text": [
      "Enter a figure from 0 to 10: 3\n",
      "You haven't guessed\n"
     ]
    }
   ],
   "source": [
    "import random\n",
    "user_number = input(\"Enter a figure from 0 to 10: \")\n",
    "user_number = int(user_number)\n",
    "random_number = random.randint(0, 10)\n",
    "if user_number == random_number:\n",
    "    print(\"You've guessed\")\n",
    "else:\n",
    "    print(\"You haven't guessed\")"
   ]
  },
  {
   "cell_type": "code",
   "execution_count": null,
   "id": "414f8216",
   "metadata": {},
   "outputs": [],
   "source": []
  }
 ],
 "metadata": {
  "kernelspec": {
   "display_name": "Python 3 (ipykernel)",
   "language": "python",
   "name": "python3"
  },
  "language_info": {
   "codemirror_mode": {
    "name": "ipython",
    "version": 3
   },
   "file_extension": ".py",
   "mimetype": "text/x-python",
   "name": "python",
   "nbconvert_exporter": "python",
   "pygments_lexer": "ipython3",
   "version": "3.9.12"
  }
 },
 "nbformat": 4,
 "nbformat_minor": 5
}
